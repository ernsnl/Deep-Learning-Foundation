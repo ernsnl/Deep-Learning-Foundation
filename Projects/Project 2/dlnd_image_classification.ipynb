{
 "cells": [
  {
   "cell_type": "markdown",
   "metadata": {
    "collapsed": true
   },
   "source": [
    "# Image Classification\n",
    "In this project, you'll classify images from the [CIFAR-10 dataset](https://www.cs.toronto.edu/~kriz/cifar.html).  The dataset consists of airplanes, dogs, cats, and other objects. You'll preprocess the images, then train a convolutional neural network on all the samples. The images need to be normalized and the labels need to be one-hot encoded.  You'll get to apply what you learned and build a convolutional, max pooling, dropout, and fully connected layers.  At the end, you'll get to see your neural network's predictions on the sample images.\n",
    "## Get the Data\n",
    "Run the following cell to download the [CIFAR-10 dataset for python](https://www.cs.toronto.edu/~kriz/cifar-10-python.tar.gz)."
   ]
  },
  {
   "cell_type": "code",
   "execution_count": 3,
   "metadata": {},
   "outputs": [
    {
     "name": "stderr",
     "output_type": "stream",
     "text": [
      "CIFAR-10 Dataset: 171MB [00:31, 4.65MB/s]                              \n"
     ]
    },
    {
     "name": "stdout",
     "output_type": "stream",
     "text": [
      "All files found!\n"
     ]
    }
   ],
   "source": [
    "\"\"\"\n",
    "DON'T MODIFY ANYTHING IN THIS CELL THAT IS BELOW THIS LINE\n",
    "\"\"\"\n",
    "from urllib.request import urlretrieve\n",
    "from os.path import isfile, isdir\n",
    "from tqdm import tqdm\n",
    "import problem_unittests as tests\n",
    "import tarfile\n",
    "\n",
    "cifar10_dataset_folder_path = 'cifar-10-batches-py'\n",
    "\n",
    "# Use Floyd's cifar-10 dataset if present\n",
    "floyd_cifar10_location = '/input/cifar-10/python.tar.gz'\n",
    "if isfile(floyd_cifar10_location):\n",
    "    tar_gz_path = floyd_cifar10_location\n",
    "else:\n",
    "    tar_gz_path = 'cifar-10-python.tar.gz'\n",
    "\n",
    "class DLProgress(tqdm):\n",
    "    last_block = 0\n",
    "\n",
    "    def hook(self, block_num=1, block_size=1, total_size=None):\n",
    "        self.total = total_size\n",
    "        self.update((block_num - self.last_block) * block_size)\n",
    "        self.last_block = block_num\n",
    "\n",
    "if not isfile(tar_gz_path):\n",
    "    with DLProgress(unit='B', unit_scale=True, miniters=1, desc='CIFAR-10 Dataset') as pbar:\n",
    "        urlretrieve(\n",
    "            'https://www.cs.toronto.edu/~kriz/cifar-10-python.tar.gz',\n",
    "            tar_gz_path,\n",
    "            pbar.hook)\n",
    "\n",
    "if not isdir(cifar10_dataset_folder_path):\n",
    "    with tarfile.open(tar_gz_path) as tar:\n",
    "        tar.extractall()\n",
    "        tar.close()\n",
    "\n",
    "\n",
    "tests.test_folder_path(cifar10_dataset_folder_path)"
   ]
  },
  {
   "cell_type": "markdown",
   "metadata": {},
   "source": [
    "## Explore the Data\n",
    "The dataset is broken into batches to prevent your machine from running out of memory.  The CIFAR-10 dataset consists of 5 batches, named `data_batch_1`, `data_batch_2`, etc.. Each batch contains the labels and images that are one of the following:\n",
    "* airplane\n",
    "* automobile\n",
    "* bird\n",
    "* cat\n",
    "* deer\n",
    "* dog\n",
    "* frog\n",
    "* horse\n",
    "* ship\n",
    "* truck\n",
    "\n",
    "Understanding a dataset is part of making predictions on the data.  Play around with the code cell below by changing the `batch_id` and `sample_id`. The `batch_id` is the id for a batch (1-5). The `sample_id` is the id for a image and label pair in the batch.\n",
    "\n",
    "Ask yourself \"What are all possible labels?\", \"What is the range of values for the image data?\", \"Are the labels in order or random?\".  Answers to questions like these will help you preprocess the data and end up with better predictions."
   ]
  },
  {
   "cell_type": "code",
   "execution_count": 6,
   "metadata": {},
   "outputs": [
    {
     "name": "stdout",
     "output_type": "stream",
     "text": [
      "\n",
      "Stats of batch 1:\n",
      "Samples: 10000\n",
      "Label Counts: {0: 1005, 1: 974, 2: 1032, 3: 1016, 4: 999, 5: 937, 6: 1030, 7: 1001, 8: 1025, 9: 981}\n",
      "First 20 Labels: [6, 9, 9, 4, 1, 1, 2, 7, 8, 3, 4, 7, 7, 2, 9, 9, 9, 3, 2, 6]\n",
      "\n",
      "Example of Image 5:\n",
      "Image - Min Value: 0 Max Value: 252\n",
      "Image - Shape: (32, 32, 3)\n",
      "Label - Label Id: 1 Name: automobile\n"
     ]
    },
    {
     "data": {
      "image/png": "[encoded data removed]",
      "text/plain": [
       "<matplotlib.figure.Figure at 0x113e28fd0>"
      ]
     },
     "metadata": {
      "image/png": {
       "height": 250,
       "width": 253
      }
     },
     "output_type": "display_data"
    }
   ],
   "source": [
    "%matplotlib inline\n",
    "%config InlineBackend.figure_format = 'retina'\n",
    "\n",
    "import helper\n",
    "import numpy as np\n",
    "\n",
    "# Explore the dataset\n",
    "batch_id = 1\n",
    "sample_id = 5\n",
    "helper.display_stats(cifar10_dataset_folder_path, batch_id, sample_id)"
   ]
  },
  {
   "cell_type": "markdown",
   "metadata": {},
   "source": [
    "## Implement Preprocess Functions\n",
    "### Normalize\n",
    "In the cell below, implement the `normalize` function to take in image data, `x`, and return it as a normalized Numpy array. The values should be in the range of 0 to 1, inclusive.  The return object should be the same shape as `x`."
   ]
  },
  {
   "cell_type": "code",
   "execution_count": 8,
   "metadata": {},
   "outputs": [
    {
     "name": "stdout",
     "output_type": "stream",
     "text": [
      "Tests Passed\n"
     ]
    }
   ],
   "source": [
    "def normalize(x):\n",
    "    \"\"\"\n",
    "    Normalize a list of sample image data in the range of 0 to 1\n",
    "    : x: List of image data.  The image shape is (32, 32, 3)\n",
    "    : return: Numpy array of normalize data\n",
    "    \"\"\"\n",
    "    # TODO: Implement Function\n",
    "    return (x - np.min(x)) / (np.max(x) - np.min(x))\n",
    "\n",
    "\n",
    "\"\"\"\n",
    "DON'T MODIFY ANYTHING IN THIS CELL THAT IS BELOW THIS LINE\n",
    "\"\"\"\n",
    "tests.test_normalize(normalize)"
   ]
  },
  {
   "cell_type": "markdown",
   "metadata": {},
   "source": [
    "### One-hot encode\n",
    "Just like the previous code cell, you'll be implementing a function for preprocessing.  This time, you'll implement the `one_hot_encode` function. The input, `x`, are a list of labels.  Implement the function to return the list of labels as One-Hot encoded Numpy array.  The possible values for labels are 0 to 9. The one-hot encoding function should return the same encoding for each value between each call to `one_hot_encode`.  Make sure to save the map of encodings outside the function.\n",
    "\n",
    "Hint: Don't reinvent the wheel."
   ]
  },
  {
   "cell_type": "code",
   "execution_count": 14,
   "metadata": {},
   "outputs": [
    {
     "name": "stdout",
     "output_type": "stream",
     "text": [
      "Tests Passed\n"
     ]
    }
   ],
   "source": [
    "def one_hot_encode(x):\n",
    "    \"\"\"\n",
    "    One hot encode a list of sample labels. Return a one-hot encoded vector for each label.\n",
    "    : x: List of sample Labels\n",
    "    : return: Numpy array of one-hot encoded labels\n",
    "    \"\"\"\n",
    "    # TODO: Implement Function\n",
    "    one_hot = np.zeros((len(x), 10))\n",
    "    one_hot[np.arange(len(x)), x] = 1\n",
    "    return one_hot\n",
    "\n",
    "\n",
    "\"\"\"\n",
    "DON'T MODIFY ANYTHING IN THIS CELL THAT IS BELOW THIS LINE\n",
    "\"\"\"\n",
    "tests.test_one_hot_encode(one_hot_encode)"
   ]
  },
  {
   "cell_type": "markdown",
   "metadata": {},
   "source": [
    "### Randomize Data\n",
    "As you saw from exploring the data above, the order of the samples are randomized.  It doesn't hurt to randomize it again, but you don't need to for this dataset."
   ]
  },
  {
   "cell_type": "markdown",
   "metadata": {},
   "source": [
    "## Preprocess all the data and save it\n",
    "Running the code cell below will preprocess all the CIFAR-10 data and save it to file. The code below also uses 10% of the training data for validation."
   ]
  },
  {
   "cell_type": "code",
   "execution_count": 15,
   "metadata": {},
   "outputs": [],
   "source": [
    "\"\"\"\n",
    "DON'T MODIFY ANYTHING IN THIS CELL\n",
    "\"\"\"\n",
    "# Preprocess Training, Validation, and Testing Data\n",
    "helper.preprocess_and_save_data(cifar10_dataset_folder_path, normalize, one_hot_encode)"
   ]
  },
  {
   "cell_type": "markdown",
   "metadata": {},
   "source": [
    "# Check Point\n",
    "This is your first checkpoint.  If you ever decide to come back to this notebook or have to restart the notebook, you can start from here.  The preprocessed data has been saved to disk."
   ]
  },
  {
   "cell_type": "code",
   "execution_count": 16,
   "metadata": {
    "collapsed": true
   },
   "outputs": [],
   "source": [
    "\"\"\"\n",
    "DON'T MODIFY ANYTHING IN THIS CELL\n",
    "\"\"\"\n",
    "import pickle\n",
    "import problem_unittests as tests\n",
    "import helper\n",
    "\n",
    "# Load the Preprocessed Validation data\n",
    "valid_features, valid_labels = pickle.load(open('preprocess_validation.p', mode='rb'))"
   ]
  },
  {
   "cell_type": "markdown",
   "metadata": {},
   "source": [
    "## Build the network\n",
    "For the neural network, you'll build each layer into a function.  Most of the code you've seen has been outside of functions. To test your code more thoroughly, we require that you put each layer in a function.  This allows us to give you better feedback and test for simple mistakes using our unittests before you submit your project.\n",
    "\n",
    ">**Note:** If you're finding it hard to dedicate enough time for this course each week, we've provided a small shortcut to this part of the project. In the next couple of problems, you'll have the option to use classes from the [TensorFlow Layers](https://www.tensorflow.org/api_docs/python/tf/layers) or [TensorFlow Layers (contrib)](https://www.tensorflow.org/api_guides/python/contrib.layers) packages to build each layer, except the layers you build in the \"Convolutional and Max Pooling Layer\" section.  TF Layers is similar to Keras's and TFLearn's abstraction to layers, so it's easy to pickup.\n",
    "\n",
    ">However, if you would like to get the most out of this course, try to solve all the problems _without_ using anything from the TF Layers packages. You **can** still use classes from other packages that happen to have the same name as ones you find in TF Layers! For example, instead of using the TF Layers version of the `conv2d` class, [tf.layers.conv2d](https://www.tensorflow.org/api_docs/python/tf/layers/conv2d), you would want to use the TF Neural Network version of `conv2d`, [tf.nn.conv2d](https://www.tensorflow.org/api_docs/python/tf/nn/conv2d). \n",
    "\n",
    "Let's begin!\n",
    "\n",
    "### Input\n",
    "The neural network needs to read the image data, one-hot encoded labels, and dropout keep probability. Implement the following functions\n",
    "* Implement `neural_net_image_input`\n",
    " * Return a [TF Placeholder](https://www.tensorflow.org/api_docs/python/tf/placeholder)\n",
    " * Set the shape using `image_shape` with batch size set to `None`.\n",
    " * Name the TensorFlow placeholder \"x\" using the TensorFlow `name` parameter in the [TF Placeholder](https://www.tensorflow.org/api_docs/python/tf/placeholder).\n",
    "* Implement `neural_net_label_input`\n",
    " * Return a [TF Placeholder](https://www.tensorflow.org/api_docs/python/tf/placeholder)\n",
    " * Set the shape using `n_classes` with batch size set to `None`.\n",
    " * Name the TensorFlow placeholder \"y\" using the TensorFlow `name` parameter in the [TF Placeholder](https://www.tensorflow.org/api_docs/python/tf/placeholder).\n",
    "* Implement `neural_net_keep_prob_input`\n",
    " * Return a [TF Placeholder](https://www.tensorflow.org/api_docs/python/tf/placeholder) for dropout keep probability.\n",
    " * Name the TensorFlow placeholder \"keep_prob\" using the TensorFlow `name` parameter in the [TF Placeholder](https://www.tensorflow.org/api_docs/python/tf/placeholder).\n",
    "\n",
    "These names will be used at the end of the project to load your saved model.\n",
    "\n",
    "Note: `None` for shapes in TensorFlow allow for a dynamic size."
   ]
  },
  {
   "cell_type": "code",
   "execution_count": 17,
   "metadata": {},
   "outputs": [
    {
     "name": "stdout",
     "output_type": "stream",
     "text": [
      "Image Input Tests Passed.\n",
      "Label Input Tests Passed.\n",
      "Keep Prob Tests Passed.\n"
     ]
    }
   ],
   "source": [
    "import tensorflow as tf\n",
    "\n",
    "def neural_net_image_input(image_shape):\n",
    "    \"\"\"\n",
    "    Return a Tensor for a batch of image input\n",
    "    : image_shape: Shape of the images\n",
    "    : return: Tensor for image input.\n",
    "    \"\"\"\n",
    "    # TODO: Implement Function\n",
    "    return tf.placeholder(tf.float32, shape=(None, *image_shape), name='x')\n",
    "\n",
    "\n",
    "def neural_net_label_input(n_classes):\n",
    "    \"\"\"\n",
    "    Return a Tensor for a batch of label input\n",
    "    : n_classes: Number of classes\n",
    "    : return: Tensor for label input.\n",
    "    \"\"\"\n",
    "    # TODO: Implement Function\n",
    "    return tf.placeholder(tf.float32, shape=(None, n_classes), name='y')\n",
    "\n",
    "\n",
    "def neural_net_keep_prob_input():\n",
    "    \"\"\"\n",
    "    Return a Tensor for keep probability\n",
    "    : return: Tensor for keep probability.\n",
    "    \"\"\"\n",
    "    # TODO: Implement Function\n",
    "    return tf.placeholder(tf.float32, name='keep_prob')\n",
    "\n",
    "\n",
    "\"\"\"\n",
    "DON'T MODIFY ANYTHING IN THIS CELL THAT IS BELOW THIS LINE\n",
    "\"\"\"\n",
    "tf.reset_default_graph()\n",
    "tests.test_nn_image_inputs(neural_net_image_input)\n",
    "tests.test_nn_label_inputs(neural_net_label_input)\n",
    "tests.test_nn_keep_prob_inputs(neural_net_keep_prob_input)"
   ]
  },
  {
   "cell_type": "markdown",
   "metadata": {},
   "source": [
    "### Convolution and Max Pooling Layer\n",
    "Convolution layers have a lot of success with images. For this code cell, you should implement the function `conv2d_maxpool` to apply convolution then max pooling:\n",
    "* Create the weight and bias using `conv_ksize`, `conv_num_outputs` and the shape of `x_tensor`.\n",
    "* Apply a convolution to `x_tensor` using weight and `conv_strides`.\n",
    " * We recommend you use same padding, but you're welcome to use any padding.\n",
    "* Add bias\n",
    "* Add a nonlinear activation to the convolution.\n",
    "* Apply Max Pooling using `pool_ksize` and `pool_strides`.\n",
    " * We recommend you use same padding, but you're welcome to use any padding.\n",
    "\n",
    "**Note:** You **can't** use [TensorFlow Layers](https://www.tensorflow.org/api_docs/python/tf/layers) or [TensorFlow Layers (contrib)](https://www.tensorflow.org/api_guides/python/contrib.layers) for **this** layer, but you can still use TensorFlow's [Neural Network](https://www.tensorflow.org/api_docs/python/tf/nn) package. You may still use the shortcut option for all the **other** layers."
   ]
  },
  {
   "cell_type": "code",
   "execution_count": 18,
   "metadata": {},
   "outputs": [
    {
     "name": "stdout",
     "output_type": "stream",
     "text": [
      "Tests Passed\n"
     ]
    }
   ],
   "source": [
    "def conv2d_maxpool(x_tensor, conv_num_outputs, conv_ksize, conv_strides, pool_ksize, pool_strides):\n",
    "    \"\"\"\n",
    "    Apply convolution then max pooling to x_tensor\n",
    "    :param x_tensor: TensorFlow Tensor\n",
    "    :param conv_num_outputs: Number of outputs for the convolutional layer\n",
    "    :param conv_ksize: kernal size 2-D Tuple for the convolutional layer\n",
    "    :param conv_strides: Stride 2-D Tuple for convolution\n",
    "    :param pool_ksize: kernal size 2-D Tuple for pool\n",
    "    :param pool_strides: Stride 2-D Tuple for pool\n",
    "    : return: A tensor that represents convolution and max pooling of x_tensor\n",
    "    \"\"\"\n",
    "    # TODO: Implement Function\n",
    "    color_channels = x_tensor.shape[3].value\n",
    "    weights = tf.Variable(tf.truncated_normal([conv_ksize[0], conv_ksize[1], color_channels, conv_num_outputs], mean=0, stddev=0.1))\n",
    "    bias = tf.Variable(tf.random_normal([conv_num_outputs])\n",
    "    \n",
    "    layer = tf.nn.conv2d(x_tensor, weights, strides=[1, conv_strides[0], conv_strides[1], 1], padding='SAME')\n",
    "    \n",
    "    layer = tf.nn.bias_add(layer, bias)\n",
    "    \n",
    "    layer = tf.nn.relu(layer)\n",
    "                          \n",
    "    layer = tf.nn.max_pool(layer, ksize=[1, pool_ksize[0], pool_ksize[1], 1], strides=[1, pool_strides[0], pool_strides[1], 1], padding='SAME')\n",
    "    return layer \n",
    "\n",
    "\n",
    "\"\"\"\n",
    "DON'T MODIFY ANYTHING IN THIS CELL THAT IS BELOW THIS LINE\n",
    "\"\"\"\n",
    "tests.test_con_pool(conv2d_maxpool)"
   ]
  },
  {
   "cell_type": "markdown",
   "metadata": {},
   "source": [
    "### Flatten Layer\n",
    "Implement the `flatten` function to change the dimension of `x_tensor` from a 4-D tensor to a 2-D tensor.  The output should be the shape (*Batch Size*, *Flattened Image Size*). Shortcut option: you can use classes from the [TensorFlow Layers](https://www.tensorflow.org/api_docs/python/tf/layers) or [TensorFlow Layers (contrib)](https://www.tensorflow.org/api_guides/python/contrib.layers) packages for this layer. For more of a challenge, only use other TensorFlow packages."
   ]
  },
  {
   "cell_type": "code",
   "execution_count": 33,
   "metadata": {},
   "outputs": [
    {
     "name": "stdout",
     "output_type": "stream",
     "text": [
      "Tests Passed\n"
     ]
    }
   ],
   "source": [
    "def flatten(x_tensor):\n",
    "    \"\"\"\n",
    "    Flatten x_tensor to (Batch Size, Flattened Image Size)\n",
    "    : x_tensor: A tensor of size (Batch Size, ...), where ... are the image dimensions.\n",
    "    : return: A tensor of size (Batch Size, Flattened Image Size).\n",
    "    \"\"\"\n",
    "    # TODO: Implement Function\n",
    "    return tf.contrib.layers.flatten(x_tensor)\n",
    "\n",
    "\n",
    "\"\"\"\n",
    "DON'T MODIFY ANYTHING IN THIS CELL THAT IS BELOW THIS LINE\n",
    "\"\"\"\n",
    "tests.test_flatten(flatten)"
   ]
  },
  {
   "cell_type": "markdown",
   "metadata": {},
   "source": [
    "### Fully-Connected Layer\n",
    "Implement the `fully_conn` function to apply a fully connected layer to `x_tensor` with the shape (*Batch Size*, *num_outputs*). Shortcut option: you can use classes from the [TensorFlow Layers](https://www.tensorflow.org/api_docs/python/tf/layers) or [TensorFlow Layers (contrib)](https://www.tensorflow.org/api_guides/python/contrib.layers) packages for this layer. For more of a challenge, only use other TensorFlow packages."
   ]
  },
  {
   "cell_type": "code",
   "execution_count": 34,
   "metadata": {},
   "outputs": [
    {
     "ename": "SyntaxError",
     "evalue": "invalid syntax (<ipython-input-34-09d52cbc270b>, line 12)",
     "output_type": "error",
     "traceback": [
      "\u001b[0;36m  File \u001b[0;32m\"<ipython-input-34-09d52cbc270b>\"\u001b[0;36m, line \u001b[0;32m12\u001b[0m\n\u001b[0;31m    layer = tf.matmul(x_tensor, weights)\u001b[0m\n\u001b[0m        ^\u001b[0m\n\u001b[0;31mSyntaxError\u001b[0m\u001b[0;31m:\u001b[0m invalid syntax\n"
     ]
    }
   ],
   "source": [
    "def fully_conn(x_tensor, num_outputs):\n",
    "    \"\"\"\n",
    "    Apply a fully connected layer to x_tensor using weight and bias\n",
    "    : x_tensor: A 2-D tensor where the first dimension is batch size.\n",
    "    : num_outputs: The number of output that the new tensor should be.\n",
    "    : return: A 2-D tensor where the second dimension is num_outputs.\n",
    "    \"\"\"\n",
    "    # TODO: Implement Function\n",
    "    size = x_tensor.shape[1].value\n",
    "    weights = tf.Variable(tf.truncated_normal([size, num_outputs], mean=0, stddev=0.1))\n",
    "    bias = tf.Variable(tf.random_normal([conv_num_outputs])\n",
    "    layer = tf.matmul(x_tensor, weights)\n",
    "    layer = tf.nn.bias_add(layer, bias)\n",
    "    layer = tf.nn.relu(layer)\n",
    "    return layer\n",
    "\n",
    "\n",
    "\"\"\"\n",
    "DON'T MODIFY ANYTHING IN THIS CELL THAT IS BELOW THIS LINE\n",
    "\"\"\"\n",
    "tests.test_fully_conn(fully_conn)"
   ]
  },
  {
   "cell_type": "markdown",
   "metadata": {},
   "source": [
    "### Output Layer\n",
    "Implement the `output` function to apply a fully connected layer to `x_tensor` with the shape (*Batch Size*, *num_outputs*). Shortcut option: you can use classes from the [TensorFlow Layers](https://www.tensorflow.org/api_docs/python/tf/layers) or [TensorFlow Layers (contrib)](https://www.tensorflow.org/api_guides/python/contrib.layers) packages for this layer. For more of a challenge, only use other TensorFlow packages.\n",
    "\n",
    "**Note:** Activation, softmax, or cross entropy should **not** be applied to this."
   ]
  },
  {
   "cell_type": "code",
   "execution_count": 35,
   "metadata": {},
   "outputs": [
    {
     "name": "stdout",
     "output_type": "stream",
     "text": [
      "Tests Passed\n"
     ]
    }
   ],
   "source": [
    "def output(x_tensor, num_outputs):\n",
    "    \"\"\"\n",
    "    Apply a output layer to x_tensor using weight and bias\n",
    "    : x_tensor: A 2-D tensor where the first dimension is batch size.\n",
    "    : num_outputs: The number of output that the new tensor should be.\n",
    "    : return: A 2-D tensor where the second dimension is num_outputs.\n",
    "    \"\"\"\n",
    "    # TODO: Implement Function\n",
    "    size = x_tensor.shape[1].value\n",
    "    weights = tf.Variable(tf.truncated_normal([size, num_outputs], mean=0, stddev=0.1))\n",
    "    bias = tf.Variable(tf.zeros(num_outputs))\n",
    "    layer = tf.matmul(x_tensor, weights)\n",
    "    layer = tf.nn.bias_add(layer, bias)\n",
    "    return layer\n",
    "\n",
    "\n",
    "\"\"\"\n",
    "DON'T MODIFY ANYTHING IN THIS CELL THAT IS BELOW THIS LINE\n",
    "\"\"\"\n",
    "tests.test_output(output)"
   ]
  },
  {
   "cell_type": "markdown",
   "metadata": {},
   "source": [
    "### Create Convolutional Model\n",
    "Implement the function `conv_net` to create a convolutional neural network model. The function takes in a batch of images, `x`, and outputs logits.  Use the layers you created above to create this model:\n",
    "\n",
    "* Apply 1, 2, or 3 Convolution and Max Pool layers\n",
    "* Apply a Flatten Layer\n",
    "* Apply 1, 2, or 3 Fully Connected Layers\n",
    "* Apply an Output Layer\n",
    "* Return the output\n",
    "* Apply [TensorFlow's Dropout](https://www.tensorflow.org/api_docs/python/tf/nn/dropout) to one or more layers in the model using `keep_prob`. "
   ]
  },
  {
   "cell_type": "code",
   "execution_count": 47,
   "metadata": {},
   "outputs": [
    {
     "name": "stdout",
     "output_type": "stream",
     "text": [
      "Neural Network Built!\n"
     ]
    }
   ],
   "source": [
    "def conv_net(x, keep_prob):\n",
    "    \"\"\"\n",
    "    Create a convolutional neural network model\n",
    "    : x: Placeholder tensor that holds image data.\n",
    "    : keep_prob: Placeholder tensor that hold dropout keep probability.\n",
    "    : return: Tensor that represents logits\n",
    "    \"\"\"\n",
    "    # TODO: Apply 1, 2, or 3 Convolution and Max Pool layers\n",
    "    #    Play around with different number of outputs, kernel size and stride\n",
    "    # Function Definition from Above:\n",
    "    #    conv2d_maxpool(x_tensor, conv_num_outputs, conv_ksize, conv_strides, pool_ksize, pool_strides)\n",
    "    conv_ksize_3_by_3 = (3,3)\n",
    "    conv_ksize_5_by_5 = (5,5)\n",
    "    one_by_one_conv = (1,1)\n",
    "    pool_ksize = (4,4)\n",
    "    pool_strde = (2,2)\n",
    "    \n",
    "    x = conv2d_maxpool(x, 16, conv_ksize_5_by_5, (1, 1), pool_ksize, pool_strde)\n",
    "    x = conv2d_maxpool(x, 64, one_by_one_conv, (2, 2), pool_ksize, pool_strde)\n",
    "    x = conv2d_maxpool(x, 128, conv_ksize_3_by_3, (2, 2), pool_ksize, pool_strde)\n",
    "    \n",
    "    # TODO: Apply a Flatten Layer\n",
    "    # Function Definition from Above:\n",
    "    #   flatten(x_tensor)\n",
    "    x = flatten(x)\n",
    "\n",
    "    # TODO: Apply 1, 2, or 3 Fully Connected Layers\n",
    "    #    Play around with different number of outputs\n",
    "    # Function Definition from Above:\n",
    "    #   fully_conn(x_tensor, num_outputs)\n",
    "    x = fully_conn(x, 128)\n",
    "    x = tf.nn.dropout(x, keep_prob)\n",
    "    x = fully_conn(x, 64)\n",
    "    x = tf.nn.dropout(x, keep_prob)\n",
    "    \n",
    "    # TODO: Apply an Output Layer\n",
    "    #    Set this to the number of classes\n",
    "    # Function Definition from Above:\n",
    "    #   output(x_tensor, num_outputs)\n",
    "    \n",
    "    \n",
    "    # TODO: return output\n",
    "    out = output(x,10)\n",
    "    return out\n",
    "\n",
    "\n",
    "\"\"\"\n",
    "DON'T MODIFY ANYTHING IN THIS CELL THAT IS BELOW THIS LINE\n",
    "\"\"\"\n",
    "\n",
    "##############################\n",
    "## Build the Neural Network ##\n",
    "##############################\n",
    "\n",
    "# Remove previous weights, bias, inputs, etc..\n",
    "tf.reset_default_graph()\n",
    "\n",
    "# Inputs\n",
    "x = neural_net_image_input((32, 32, 3))\n",
    "y = neural_net_label_input(10)\n",
    "keep_prob = neural_net_keep_prob_input()\n",
    "\n",
    "# Model\n",
    "logits = conv_net(x, keep_prob)\n",
    "\n",
    "# Name logits Tensor, so that is can be loaded from disk after training\n",
    "logits = tf.identity(logits, name='logits')\n",
    "\n",
    "# Loss and Optimizer\n",
    "cost = tf.reduce_mean(tf.nn.softmax_cross_entropy_with_logits(logits=logits, labels=y))\n",
    "optimizer = tf.train.AdamOptimizer().minimize(cost)\n",
    "\n",
    "# Accuracy\n",
    "correct_pred = tf.equal(tf.argmax(logits, 1), tf.argmax(y, 1))\n",
    "accuracy = tf.reduce_mean(tf.cast(correct_pred, tf.float32), name='accuracy')\n",
    "\n",
    "tests.test_conv_net(conv_net)"
   ]
  },
  {
   "cell_type": "markdown",
   "metadata": {},
   "source": [
    "## Train the Neural Network\n",
    "### Single Optimization\n",
    "Implement the function `train_neural_network` to do a single optimization.  The optimization should use `optimizer` to optimize in `session` with a `feed_dict` of the following:\n",
    "* `x` for image input\n",
    "* `y` for labels\n",
    "* `keep_prob` for keep probability for dropout\n",
    "\n",
    "This function will be called for each batch, so `tf.global_variables_initializer()` has already been called.\n",
    "\n",
    "Note: Nothing needs to be returned. This function is only optimizing the neural network."
   ]
  },
  {
   "cell_type": "code",
   "execution_count": 48,
   "metadata": {},
   "outputs": [
    {
     "name": "stdout",
     "output_type": "stream",
     "text": [
      "Tests Passed\n"
     ]
    }
   ],
   "source": [
    "def train_neural_network(session, optimizer, keep_probability, feature_batch, label_batch):\n",
    "    \"\"\"\n",
    "    Optimize the session on a batch of images and labels\n",
    "    : session: Current TensorFlow session\n",
    "    : optimizer: TensorFlow optimizer function\n",
    "    : keep_probability: keep probability\n",
    "    : feature_batch: Batch of Numpy image data\n",
    "    : label_batch: Batch of Numpy label data\n",
    "    \"\"\"\n",
    "    # TODO: Implement Function\n",
    "    session.run(optimizer, feed_dict={\n",
    "        x: feature_batch, \n",
    "        y: label_batch, \n",
    "        keep_prob: keep_probability\n",
    "    })\n",
    "\n",
    "\n",
    "\"\"\"\n",
    "DON'T MODIFY ANYTHING IN THIS CELL THAT IS BELOW THIS LINE\n",
    "\"\"\"\n",
    "tests.test_train_nn(train_neural_network)"
   ]
  },
  {
   "cell_type": "markdown",
   "metadata": {},
   "source": [
    "### Show Stats\n",
    "Implement the function `print_stats` to print loss and validation accuracy.  Use the global variables `valid_features` and `valid_labels` to calculate validation accuracy.  Use a keep probability of `1.0` to calculate the loss and validation accuracy."
   ]
  },
  {
   "cell_type": "code",
   "execution_count": 49,
   "metadata": {},
   "outputs": [],
   "source": [
    "def print_stats(session, feature_batch, label_batch, cost, accuracy):\n",
    "    \"\"\"\n",
    "    Print information about loss and validation accuracy\n",
    "    : session: Current TensorFlow session\n",
    "    : feature_batch: Batch of Numpy image data\n",
    "    : label_batch: Batch of Numpy label data\n",
    "    : cost: TensorFlow cost function\n",
    "    : accuracy: TensorFlow accuracy function\n",
    "    \"\"\"\n",
    "    # TODO: Implement Function\n",
    "    loss = session.run(cost, feed_dict={\n",
    "        x: feature_batch,\n",
    "        y: label_batch,\n",
    "        keep_prob: 1.0\n",
    "    })\n",
    "    validation_accuracy = session.run(accuracy, feed_dict={\n",
    "        x: valid_features,\n",
    "        y: valid_labels,\n",
    "        keep_prob: 1.\n",
    "    })\n",
    "    print('Loss: {:>10.4f} Validation Accuracy: {:.6f}'.format(loss, validation_accuracy))"
   ]
  },
  {
   "cell_type": "markdown",
   "metadata": {},
   "source": [
    "### Hyperparameters\n",
    "Tune the following parameters:\n",
    "* Set `epochs` to the number of iterations until the network stops learning or start overfitting\n",
    "* Set `batch_size` to the highest number that your machine has memory for.  Most people set them to common sizes of memory:\n",
    " * 64\n",
    " * 128\n",
    " * 256\n",
    " * ...\n",
    "* Set `keep_probability` to the probability of keeping a node using dropout"
   ]
  },
  {
   "cell_type": "code",
   "execution_count": 53,
   "metadata": {
    "collapsed": true
   },
   "outputs": [],
   "source": [
    "# TODO: Tune Parameters\n",
    "epochs = 48\n",
    "batch_size = 256\n",
    "keep_probability = 0.75"
   ]
  },
  {
   "cell_type": "markdown",
   "metadata": {},
   "source": [
    "### Train on a Single CIFAR-10 Batch\n",
    "Instead of training the neural network on all the CIFAR-10 batches of data, let's use a single batch. This should save time while you iterate on the model to get a better accuracy.  Once the final validation accuracy is 50% or greater, run the model on all the data in the next section."
   ]
  },
  {
   "cell_type": "code",
   "execution_count": 54,
   "metadata": {},
   "outputs": [
    {
     "name": "stdout",
     "output_type": "stream",
     "text": [
      "Checking the Training on a Single Batch...\n",
      "Epoch  1, CIFAR-10 Batch 1:  Loss:     2.2305 Validation Accuracy: 0.161200\n",
      "Epoch  2, CIFAR-10 Batch 1:  Loss:     2.1625 Validation Accuracy: 0.277400\n",
      "Epoch  3, CIFAR-10 Batch 1:  Loss:     2.0976 Validation Accuracy: 0.318400\n",
      "Epoch  4, CIFAR-10 Batch 1:  Loss:     1.9623 Validation Accuracy: 0.341000\n",
      "Epoch  5, CIFAR-10 Batch 1:  Loss:     1.8712 Validation Accuracy: 0.372400\n",
      "Epoch  6, CIFAR-10 Batch 1:  Loss:     1.8641 Validation Accuracy: 0.374200\n",
      "Epoch  7, CIFAR-10 Batch 1:  Loss:     1.7203 Validation Accuracy: 0.401800\n",
      "Epoch  8, CIFAR-10 Batch 1:  Loss:     1.6512 Validation Accuracy: 0.406200\n",
      "Epoch  9, CIFAR-10 Batch 1:  Loss:     1.5840 Validation Accuracy: 0.399000\n",
      "Epoch 10, CIFAR-10 Batch 1:  Loss:     1.5172 Validation Accuracy: 0.423000\n",
      "Epoch 11, CIFAR-10 Batch 1:  Loss:     1.4491 Validation Accuracy: 0.437400\n",
      "Epoch 12, CIFAR-10 Batch 1:  Loss:     1.3838 Validation Accuracy: 0.448600\n",
      "Epoch 13, CIFAR-10 Batch 1:  Loss:     1.3239 Validation Accuracy: 0.456000\n",
      "Epoch 14, CIFAR-10 Batch 1:  Loss:     1.2562 Validation Accuracy: 0.455600\n",
      "Epoch 15, CIFAR-10 Batch 1:  Loss:     1.2285 Validation Accuracy: 0.468000\n",
      "Epoch 16, CIFAR-10 Batch 1:  Loss:     1.1559 Validation Accuracy: 0.474600\n",
      "Epoch 17, CIFAR-10 Batch 1:  Loss:     1.1064 Validation Accuracy: 0.483600\n",
      "Epoch 18, CIFAR-10 Batch 1:  Loss:     1.0753 Validation Accuracy: 0.486000\n",
      "Epoch 19, CIFAR-10 Batch 1:  Loss:     1.0188 Validation Accuracy: 0.497000\n",
      "Epoch 20, CIFAR-10 Batch 1:  Loss:     1.0113 Validation Accuracy: 0.497600\n",
      "Epoch 21, CIFAR-10 Batch 1:  Loss:     0.9647 Validation Accuracy: 0.508600\n",
      "Epoch 22, CIFAR-10 Batch 1:  Loss:     0.9128 Validation Accuracy: 0.507600\n",
      "Epoch 23, CIFAR-10 Batch 1:  Loss:     0.8697 Validation Accuracy: 0.516200\n",
      "Epoch 24, CIFAR-10 Batch 1:  Loss:     0.8418 Validation Accuracy: 0.519800\n",
      "Epoch 25, CIFAR-10 Batch 1:  Loss:     0.8414 Validation Accuracy: 0.513200\n",
      "Epoch 26, CIFAR-10 Batch 1:  Loss:     0.7931 Validation Accuracy: 0.523600\n",
      "Epoch 27, CIFAR-10 Batch 1:  Loss:     0.7510 Validation Accuracy: 0.517400\n",
      "Epoch 28, CIFAR-10 Batch 1:  Loss:     0.7276 Validation Accuracy: 0.517600\n",
      "Epoch 29, CIFAR-10 Batch 1:  Loss:     0.7075 Validation Accuracy: 0.519200\n",
      "Epoch 30, CIFAR-10 Batch 1:  Loss:     0.6996 Validation Accuracy: 0.521400\n",
      "Epoch 31, CIFAR-10 Batch 1:  Loss:     0.6476 Validation Accuracy: 0.542800\n",
      "Epoch 32, CIFAR-10 Batch 1:  Loss:     0.6101 Validation Accuracy: 0.535800\n",
      "Epoch 33, CIFAR-10 Batch 1:  Loss:     0.6112 Validation Accuracy: 0.536200\n",
      "Epoch 34, CIFAR-10 Batch 1:  Loss:     0.5880 Validation Accuracy: 0.524400\n",
      "Epoch 35, CIFAR-10 Batch 1:  Loss:     0.5671 Validation Accuracy: 0.516000\n",
      "Epoch 36, CIFAR-10 Batch 1:  Loss:     0.5549 Validation Accuracy: 0.525600\n",
      "Epoch 37, CIFAR-10 Batch 1:  Loss:     0.5384 Validation Accuracy: 0.529200\n",
      "Epoch 38, CIFAR-10 Batch 1:  Loss:     0.4695 Validation Accuracy: 0.545000\n",
      "Epoch 39, CIFAR-10 Batch 1:  Loss:     0.4671 Validation Accuracy: 0.547200\n",
      "Epoch 40, CIFAR-10 Batch 1:  Loss:     0.4460 Validation Accuracy: 0.546400\n",
      "Epoch 41, CIFAR-10 Batch 1:  Loss:     0.4361 Validation Accuracy: 0.542800\n",
      "Epoch 42, CIFAR-10 Batch 1:  Loss:     0.4132 Validation Accuracy: 0.533000\n",
      "Epoch 43, CIFAR-10 Batch 1:  Loss:     0.3971 Validation Accuracy: 0.536600\n",
      "Epoch 44, CIFAR-10 Batch 1:  Loss:     0.4130 Validation Accuracy: 0.524200\n",
      "Epoch 45, CIFAR-10 Batch 1:  Loss:     0.4186 Validation Accuracy: 0.541400\n",
      "Epoch 46, CIFAR-10 Batch 1:  Loss:     0.4054 Validation Accuracy: 0.538200\n",
      "Epoch 47, CIFAR-10 Batch 1:  Loss:     0.3887 Validation Accuracy: 0.552600\n",
      "Epoch 48, CIFAR-10 Batch 1:  Loss:     0.3797 Validation Accuracy: 0.551600\n"
     ]
    }
   ],
   "source": [
    "\"\"\"\n",
    "DON'T MODIFY ANYTHING IN THIS CELL\n",
    "\"\"\"\n",
    "print('Checking the Training on a Single Batch...')\n",
    "with tf.Session() as sess:\n",
    "    # Initializing the variables\n",
    "    sess.run(tf.global_variables_initializer())\n",
    "    \n",
    "    # Training cycle\n",
    "    for epoch in range(epochs):\n",
    "        batch_i = 1\n",
    "        for batch_features, batch_labels in helper.load_preprocess_training_batch(batch_i, batch_size):\n",
    "            train_neural_network(sess, optimizer, keep_probability, batch_features, batch_labels)\n",
    "        print('Epoch {:>2}, CIFAR-10 Batch {}:  '.format(epoch + 1, batch_i), end='')\n",
    "        print_stats(sess, batch_features, batch_labels, cost, accuracy)"
   ]
  },
  {
   "cell_type": "markdown",
   "metadata": {},
   "source": [
    "### Fully Train the Model\n",
    "Now that you got a good accuracy with a single CIFAR-10 batch, try it with all five batches."
   ]
  },
  {
   "cell_type": "code",
   "execution_count": 55,
   "metadata": {},
   "outputs": [
    {
     "name": "stdout",
     "output_type": "stream",
     "text": [
      "Training...\n",
      "Epoch  1, CIFAR-10 Batch 1:  Loss:     2.2048 Validation Accuracy: 0.203600\n",
      "Epoch  1, CIFAR-10 Batch 2:  Loss:     2.0784 Validation Accuracy: 0.257800\n",
      "Epoch  1, CIFAR-10 Batch 3:  Loss:     1.6721 Validation Accuracy: 0.294200\n",
      "Epoch  1, CIFAR-10 Batch 4:  Loss:     1.7243 Validation Accuracy: 0.304400\n",
      "Epoch  1, CIFAR-10 Batch 5:  Loss:     1.7231 Validation Accuracy: 0.332000\n",
      "Epoch  2, CIFAR-10 Batch 1:  Loss:     1.9344 Validation Accuracy: 0.362600\n",
      "Epoch  2, CIFAR-10 Batch 2:  Loss:     1.8616 Validation Accuracy: 0.371600\n",
      "Epoch  2, CIFAR-10 Batch 3:  Loss:     1.4150 Validation Accuracy: 0.362600\n",
      "Epoch  2, CIFAR-10 Batch 4:  Loss:     1.5556 Validation Accuracy: 0.406800\n",
      "Epoch  2, CIFAR-10 Batch 5:  Loss:     1.5898 Validation Accuracy: 0.410800\n",
      "Epoch  3, CIFAR-10 Batch 1:  Loss:     1.6681 Validation Accuracy: 0.421200\n",
      "Epoch  3, CIFAR-10 Batch 2:  Loss:     1.5788 Validation Accuracy: 0.438600\n",
      "Epoch  3, CIFAR-10 Batch 3:  Loss:     1.2811 Validation Accuracy: 0.432600\n",
      "Epoch  3, CIFAR-10 Batch 4:  Loss:     1.5107 Validation Accuracy: 0.456800\n",
      "Epoch  3, CIFAR-10 Batch 5:  Loss:     1.4425 Validation Accuracy: 0.461600\n",
      "Epoch  4, CIFAR-10 Batch 1:  Loss:     1.5104 Validation Accuracy: 0.469800\n",
      "Epoch  4, CIFAR-10 Batch 2:  Loss:     1.4693 Validation Accuracy: 0.467200\n",
      "Epoch  4, CIFAR-10 Batch 3:  Loss:     1.1713 Validation Accuracy: 0.462600\n",
      "Epoch  4, CIFAR-10 Batch 4:  Loss:     1.4127 Validation Accuracy: 0.493000\n",
      "Epoch  4, CIFAR-10 Batch 5:  Loss:     1.3649 Validation Accuracy: 0.491000\n",
      "Epoch  5, CIFAR-10 Batch 1:  Loss:     1.4244 Validation Accuracy: 0.499600\n",
      "Epoch  5, CIFAR-10 Batch 2:  Loss:     1.3602 Validation Accuracy: 0.497800\n",
      "Epoch  5, CIFAR-10 Batch 3:  Loss:     1.0462 Validation Accuracy: 0.507000\n",
      "Epoch  5, CIFAR-10 Batch 4:  Loss:     1.3027 Validation Accuracy: 0.511400\n",
      "Epoch  5, CIFAR-10 Batch 5:  Loss:     1.2799 Validation Accuracy: 0.508400\n",
      "Epoch  6, CIFAR-10 Batch 1:  Loss:     1.2958 Validation Accuracy: 0.511800\n",
      "Epoch  6, CIFAR-10 Batch 2:  Loss:     1.2282 Validation Accuracy: 0.505000\n",
      "Epoch  6, CIFAR-10 Batch 3:  Loss:     1.0143 Validation Accuracy: 0.525600\n",
      "Epoch  6, CIFAR-10 Batch 4:  Loss:     1.2346 Validation Accuracy: 0.534000\n",
      "Epoch  6, CIFAR-10 Batch 5:  Loss:     1.1891 Validation Accuracy: 0.527600\n",
      "Epoch  7, CIFAR-10 Batch 1:  Loss:     1.2067 Validation Accuracy: 0.534000\n",
      "Epoch  7, CIFAR-10 Batch 2:  Loss:     1.1485 Validation Accuracy: 0.537000\n",
      "Epoch  7, CIFAR-10 Batch 3:  Loss:     0.9607 Validation Accuracy: 0.531000\n",
      "Epoch  7, CIFAR-10 Batch 4:  Loss:     1.1503 Validation Accuracy: 0.547000\n",
      "Epoch  7, CIFAR-10 Batch 5:  Loss:     1.0800 Validation Accuracy: 0.550200\n",
      "Epoch  8, CIFAR-10 Batch 1:  Loss:     1.1211 Validation Accuracy: 0.532200\n",
      "Epoch  8, CIFAR-10 Batch 2:  Loss:     1.0406 Validation Accuracy: 0.531400\n",
      "Epoch  8, CIFAR-10 Batch 3:  Loss:     0.8622 Validation Accuracy: 0.537400\n",
      "Epoch  8, CIFAR-10 Batch 4:  Loss:     1.0933 Validation Accuracy: 0.558600\n",
      "Epoch  8, CIFAR-10 Batch 5:  Loss:     1.0275 Validation Accuracy: 0.557000\n",
      "Epoch  9, CIFAR-10 Batch 1:  Loss:     1.0669 Validation Accuracy: 0.565600\n",
      "Epoch  9, CIFAR-10 Batch 2:  Loss:     0.9595 Validation Accuracy: 0.557400\n",
      "Epoch  9, CIFAR-10 Batch 3:  Loss:     0.7828 Validation Accuracy: 0.549600\n",
      "Epoch  9, CIFAR-10 Batch 4:  Loss:     1.0113 Validation Accuracy: 0.577400\n",
      "Epoch  9, CIFAR-10 Batch 5:  Loss:     0.9833 Validation Accuracy: 0.574800\n",
      "Epoch 10, CIFAR-10 Batch 1:  Loss:     1.0028 Validation Accuracy: 0.573600\n",
      "Epoch 10, CIFAR-10 Batch 2:  Loss:     0.9158 Validation Accuracy: 0.556400\n",
      "Epoch 10, CIFAR-10 Batch 3:  Loss:     0.7112 Validation Accuracy: 0.558800\n",
      "Epoch 10, CIFAR-10 Batch 4:  Loss:     0.9569 Validation Accuracy: 0.581400\n",
      "Epoch 10, CIFAR-10 Batch 5:  Loss:     0.9377 Validation Accuracy: 0.571200\n",
      "Epoch 11, CIFAR-10 Batch 1:  Loss:     0.9590 Validation Accuracy: 0.584000\n",
      "Epoch 11, CIFAR-10 Batch 2:  Loss:     0.8845 Validation Accuracy: 0.556400\n",
      "Epoch 11, CIFAR-10 Batch 3:  Loss:     0.6872 Validation Accuracy: 0.569600\n",
      "Epoch 11, CIFAR-10 Batch 4:  Loss:     0.8984 Validation Accuracy: 0.586000\n",
      "Epoch 11, CIFAR-10 Batch 5:  Loss:     0.8832 Validation Accuracy: 0.572800\n",
      "Epoch 12, CIFAR-10 Batch 1:  Loss:     0.9027 Validation Accuracy: 0.592000\n",
      "Epoch 12, CIFAR-10 Batch 2:  Loss:     0.8262 Validation Accuracy: 0.586200\n",
      "Epoch 12, CIFAR-10 Batch 3:  Loss:     0.5964 Validation Accuracy: 0.581000\n",
      "Epoch 12, CIFAR-10 Batch 4:  Loss:     0.8298 Validation Accuracy: 0.594800\n",
      "Epoch 12, CIFAR-10 Batch 5:  Loss:     0.8626 Validation Accuracy: 0.592000\n",
      "Epoch 13, CIFAR-10 Batch 1:  Loss:     0.8619 Validation Accuracy: 0.590800\n",
      "Epoch 13, CIFAR-10 Batch 2:  Loss:     0.7915 Validation Accuracy: 0.586600\n",
      "Epoch 13, CIFAR-10 Batch 3:  Loss:     0.5697 Validation Accuracy: 0.591000\n",
      "Epoch 13, CIFAR-10 Batch 4:  Loss:     0.7816 Validation Accuracy: 0.599600\n",
      "Epoch 13, CIFAR-10 Batch 5:  Loss:     0.7789 Validation Accuracy: 0.599000\n",
      "Epoch 14, CIFAR-10 Batch 1:  Loss:     0.8368 Validation Accuracy: 0.597000\n",
      "Epoch 14, CIFAR-10 Batch 2:  Loss:     0.7542 Validation Accuracy: 0.601200\n",
      "Epoch 14, CIFAR-10 Batch 3:  Loss:     0.5636 Validation Accuracy: 0.596400\n",
      "Epoch 14, CIFAR-10 Batch 4:  Loss:     0.7792 Validation Accuracy: 0.607200\n",
      "Epoch 14, CIFAR-10 Batch 5:  Loss:     0.7220 Validation Accuracy: 0.605800\n",
      "Epoch 15, CIFAR-10 Batch 1:  Loss:     0.7883 Validation Accuracy: 0.608200\n",
      "Epoch 15, CIFAR-10 Batch 2:  Loss:     0.7060 Validation Accuracy: 0.610000\n",
      "Epoch 15, CIFAR-10 Batch 3:  Loss:     0.5392 Validation Accuracy: 0.597200\n",
      "Epoch 15, CIFAR-10 Batch 4:  Loss:     0.6681 Validation Accuracy: 0.614200\n",
      "Epoch 15, CIFAR-10 Batch 5:  Loss:     0.6770 Validation Accuracy: 0.606200\n",
      "Epoch 16, CIFAR-10 Batch 1:  Loss:     0.7691 Validation Accuracy: 0.608000\n",
      "Epoch 16, CIFAR-10 Batch 2:  Loss:     0.6610 Validation Accuracy: 0.607400\n",
      "Epoch 16, CIFAR-10 Batch 3:  Loss:     0.5056 Validation Accuracy: 0.599600\n",
      "Epoch 16, CIFAR-10 Batch 4:  Loss:     0.6800 Validation Accuracy: 0.628000\n",
      "Epoch 16, CIFAR-10 Batch 5:  Loss:     0.6873 Validation Accuracy: 0.614600\n",
      "Epoch 17, CIFAR-10 Batch 1:  Loss:     0.7328 Validation Accuracy: 0.621000\n",
      "Epoch 17, CIFAR-10 Batch 2:  Loss:     0.6213 Validation Accuracy: 0.614800\n",
      "Epoch 17, CIFAR-10 Batch 3:  Loss:     0.4969 Validation Accuracy: 0.616000\n",
      "Epoch 17, CIFAR-10 Batch 4:  Loss:     0.6191 Validation Accuracy: 0.631600\n",
      "Epoch 17, CIFAR-10 Batch 5:  Loss:     0.6069 Validation Accuracy: 0.620400\n",
      "Epoch 18, CIFAR-10 Batch 1:  Loss:     0.7382 Validation Accuracy: 0.629800\n",
      "Epoch 18, CIFAR-10 Batch 2:  Loss:     0.5997 Validation Accuracy: 0.629200\n",
      "Epoch 18, CIFAR-10 Batch 3:  Loss:     0.4558 Validation Accuracy: 0.622200\n",
      "Epoch 18, CIFAR-10 Batch 4:  Loss:     0.5792 Validation Accuracy: 0.627200\n",
      "Epoch 18, CIFAR-10 Batch 5:  Loss:     0.5605 Validation Accuracy: 0.628400\n",
      "Epoch 19, CIFAR-10 Batch 1:  Loss:     0.7096 Validation Accuracy: 0.634800\n",
      "Epoch 19, CIFAR-10 Batch 2:  Loss:     0.5770 Validation Accuracy: 0.622000\n",
      "Epoch 19, CIFAR-10 Batch 3:  Loss:     0.4404 Validation Accuracy: 0.628600\n",
      "Epoch 19, CIFAR-10 Batch 4:  Loss:     0.5467 Validation Accuracy: 0.632800\n",
      "Epoch 19, CIFAR-10 Batch 5:  Loss:     0.5626 Validation Accuracy: 0.629200\n",
      "Epoch 20, CIFAR-10 Batch 1:  Loss:     0.6527 Validation Accuracy: 0.628800\n",
      "Epoch 20, CIFAR-10 Batch 2:  Loss:     0.5508 Validation Accuracy: 0.634800\n",
      "Epoch 20, CIFAR-10 Batch 3:  Loss:     0.4122 Validation Accuracy: 0.625800\n",
      "Epoch 20, CIFAR-10 Batch 4:  Loss:     0.5453 Validation Accuracy: 0.636600\n",
      "Epoch 20, CIFAR-10 Batch 5:  Loss:     0.4746 Validation Accuracy: 0.636400\n",
      "Epoch 21, CIFAR-10 Batch 1:  Loss:     0.6290 Validation Accuracy: 0.632000\n",
      "Epoch 21, CIFAR-10 Batch 2:  Loss:     0.4970 Validation Accuracy: 0.639000\n",
      "Epoch 21, CIFAR-10 Batch 3:  Loss:     0.3926 Validation Accuracy: 0.636800\n",
      "Epoch 21, CIFAR-10 Batch 4:  Loss:     0.4744 Validation Accuracy: 0.645000\n",
      "Epoch 21, CIFAR-10 Batch 5:  Loss:     0.4716 Validation Accuracy: 0.643000\n",
      "Epoch 22, CIFAR-10 Batch 1:  Loss:     0.6165 Validation Accuracy: 0.641800\n",
      "Epoch 22, CIFAR-10 Batch 2:  Loss:     0.4938 Validation Accuracy: 0.642400\n",
      "Epoch 22, CIFAR-10 Batch 3:  Loss:     0.3836 Validation Accuracy: 0.631600\n"
     ]
    },
    {
     "name": "stdout",
     "output_type": "stream",
     "text": [
      "Epoch 22, CIFAR-10 Batch 4:  Loss:     0.4937 Validation Accuracy: 0.635000\n",
      "Epoch 22, CIFAR-10 Batch 5:  Loss:     0.4570 Validation Accuracy: 0.638800\n",
      "Epoch 23, CIFAR-10 Batch 1:  Loss:     0.6291 Validation Accuracy: 0.646800\n",
      "Epoch 23, CIFAR-10 Batch 2:  Loss:     0.4676 Validation Accuracy: 0.645200\n",
      "Epoch 23, CIFAR-10 Batch 3:  Loss:     0.3502 Validation Accuracy: 0.642000\n",
      "Epoch 23, CIFAR-10 Batch 4:  Loss:     0.4589 Validation Accuracy: 0.651200\n",
      "Epoch 23, CIFAR-10 Batch 5:  Loss:     0.4491 Validation Accuracy: 0.631600\n",
      "Epoch 24, CIFAR-10 Batch 1:  Loss:     0.5859 Validation Accuracy: 0.636400\n",
      "Epoch 24, CIFAR-10 Batch 2:  Loss:     0.4556 Validation Accuracy: 0.649400\n",
      "Epoch 24, CIFAR-10 Batch 3:  Loss:     0.3652 Validation Accuracy: 0.647000\n",
      "Epoch 24, CIFAR-10 Batch 4:  Loss:     0.4640 Validation Accuracy: 0.645200\n",
      "Epoch 24, CIFAR-10 Batch 5:  Loss:     0.4029 Validation Accuracy: 0.633400\n",
      "Epoch 25, CIFAR-10 Batch 1:  Loss:     0.5930 Validation Accuracy: 0.641400\n",
      "Epoch 25, CIFAR-10 Batch 2:  Loss:     0.4458 Validation Accuracy: 0.649400\n",
      "Epoch 25, CIFAR-10 Batch 3:  Loss:     0.3329 Validation Accuracy: 0.648400\n",
      "Epoch 25, CIFAR-10 Batch 4:  Loss:     0.4370 Validation Accuracy: 0.651800\n",
      "Epoch 25, CIFAR-10 Batch 5:  Loss:     0.3879 Validation Accuracy: 0.640800\n",
      "Epoch 26, CIFAR-10 Batch 1:  Loss:     0.5649 Validation Accuracy: 0.641800\n",
      "Epoch 26, CIFAR-10 Batch 2:  Loss:     0.4367 Validation Accuracy: 0.651000\n",
      "Epoch 26, CIFAR-10 Batch 3:  Loss:     0.3434 Validation Accuracy: 0.644000\n",
      "Epoch 26, CIFAR-10 Batch 4:  Loss:     0.4822 Validation Accuracy: 0.639200\n",
      "Epoch 26, CIFAR-10 Batch 5:  Loss:     0.3890 Validation Accuracy: 0.653400\n",
      "Epoch 27, CIFAR-10 Batch 1:  Loss:     0.5221 Validation Accuracy: 0.654400\n",
      "Epoch 27, CIFAR-10 Batch 2:  Loss:     0.4249 Validation Accuracy: 0.642200\n",
      "Epoch 27, CIFAR-10 Batch 3:  Loss:     0.2873 Validation Accuracy: 0.651200\n",
      "Epoch 27, CIFAR-10 Batch 4:  Loss:     0.4179 Validation Accuracy: 0.646800\n",
      "Epoch 27, CIFAR-10 Batch 5:  Loss:     0.3665 Validation Accuracy: 0.654200\n",
      "Epoch 28, CIFAR-10 Batch 1:  Loss:     0.5422 Validation Accuracy: 0.650200\n",
      "Epoch 28, CIFAR-10 Batch 2:  Loss:     0.3817 Validation Accuracy: 0.645000\n",
      "Epoch 28, CIFAR-10 Batch 3:  Loss:     0.2753 Validation Accuracy: 0.654800\n",
      "Epoch 28, CIFAR-10 Batch 4:  Loss:     0.3743 Validation Accuracy: 0.641000\n",
      "Epoch 28, CIFAR-10 Batch 5:  Loss:     0.3612 Validation Accuracy: 0.659400\n",
      "Epoch 29, CIFAR-10 Batch 1:  Loss:     0.4767 Validation Accuracy: 0.652800\n",
      "Epoch 29, CIFAR-10 Batch 2:  Loss:     0.3737 Validation Accuracy: 0.644600\n",
      "Epoch 29, CIFAR-10 Batch 3:  Loss:     0.2799 Validation Accuracy: 0.650600\n",
      "Epoch 29, CIFAR-10 Batch 4:  Loss:     0.3336 Validation Accuracy: 0.663200\n",
      "Epoch 29, CIFAR-10 Batch 5:  Loss:     0.3421 Validation Accuracy: 0.659000\n",
      "Epoch 30, CIFAR-10 Batch 1:  Loss:     0.4715 Validation Accuracy: 0.654400\n",
      "Epoch 30, CIFAR-10 Batch 2:  Loss:     0.3492 Validation Accuracy: 0.647600\n",
      "Epoch 30, CIFAR-10 Batch 3:  Loss:     0.2504 Validation Accuracy: 0.657200\n",
      "Epoch 30, CIFAR-10 Batch 4:  Loss:     0.3526 Validation Accuracy: 0.642800\n",
      "Epoch 30, CIFAR-10 Batch 5:  Loss:     0.3187 Validation Accuracy: 0.656200\n",
      "Epoch 31, CIFAR-10 Batch 1:  Loss:     0.4409 Validation Accuracy: 0.659800\n",
      "Epoch 31, CIFAR-10 Batch 2:  Loss:     0.3656 Validation Accuracy: 0.640400\n",
      "Epoch 31, CIFAR-10 Batch 3:  Loss:     0.2773 Validation Accuracy: 0.655800\n",
      "Epoch 31, CIFAR-10 Batch 4:  Loss:     0.3213 Validation Accuracy: 0.642600\n",
      "Epoch 31, CIFAR-10 Batch 5:  Loss:     0.2911 Validation Accuracy: 0.656800\n",
      "Epoch 32, CIFAR-10 Batch 1:  Loss:     0.4257 Validation Accuracy: 0.658000\n",
      "Epoch 32, CIFAR-10 Batch 2:  Loss:     0.3616 Validation Accuracy: 0.639600\n",
      "Epoch 32, CIFAR-10 Batch 3:  Loss:     0.2240 Validation Accuracy: 0.664200\n",
      "Epoch 32, CIFAR-10 Batch 4:  Loss:     0.3050 Validation Accuracy: 0.655600\n",
      "Epoch 32, CIFAR-10 Batch 5:  Loss:     0.2838 Validation Accuracy: 0.665800\n",
      "Epoch 33, CIFAR-10 Batch 1:  Loss:     0.4015 Validation Accuracy: 0.655800\n",
      "Epoch 33, CIFAR-10 Batch 2:  Loss:     0.3295 Validation Accuracy: 0.643600\n",
      "Epoch 33, CIFAR-10 Batch 3:  Loss:     0.2362 Validation Accuracy: 0.663000\n",
      "Epoch 33, CIFAR-10 Batch 4:  Loss:     0.3060 Validation Accuracy: 0.653000\n",
      "Epoch 33, CIFAR-10 Batch 5:  Loss:     0.2435 Validation Accuracy: 0.660400\n",
      "Epoch 34, CIFAR-10 Batch 1:  Loss:     0.3860 Validation Accuracy: 0.644600\n",
      "Epoch 34, CIFAR-10 Batch 2:  Loss:     0.3246 Validation Accuracy: 0.645400\n",
      "Epoch 34, CIFAR-10 Batch 3:  Loss:     0.2053 Validation Accuracy: 0.653800\n",
      "Epoch 34, CIFAR-10 Batch 4:  Loss:     0.2982 Validation Accuracy: 0.645400\n",
      "Epoch 34, CIFAR-10 Batch 5:  Loss:     0.2541 Validation Accuracy: 0.655800\n",
      "Epoch 35, CIFAR-10 Batch 1:  Loss:     0.3887 Validation Accuracy: 0.652600\n",
      "Epoch 35, CIFAR-10 Batch 2:  Loss:     0.3253 Validation Accuracy: 0.655000\n",
      "Epoch 35, CIFAR-10 Batch 3:  Loss:     0.1912 Validation Accuracy: 0.662200\n",
      "Epoch 35, CIFAR-10 Batch 4:  Loss:     0.2768 Validation Accuracy: 0.641600\n",
      "Epoch 35, CIFAR-10 Batch 5:  Loss:     0.2366 Validation Accuracy: 0.664200\n",
      "Epoch 36, CIFAR-10 Batch 1:  Loss:     0.3498 Validation Accuracy: 0.651800\n",
      "Epoch 36, CIFAR-10 Batch 2:  Loss:     0.3182 Validation Accuracy: 0.662400\n",
      "Epoch 36, CIFAR-10 Batch 3:  Loss:     0.1923 Validation Accuracy: 0.647400\n",
      "Epoch 36, CIFAR-10 Batch 4:  Loss:     0.2396 Validation Accuracy: 0.655600\n",
      "Epoch 36, CIFAR-10 Batch 5:  Loss:     0.2595 Validation Accuracy: 0.656400\n",
      "Epoch 37, CIFAR-10 Batch 1:  Loss:     0.3632 Validation Accuracy: 0.653800\n",
      "Epoch 37, CIFAR-10 Batch 2:  Loss:     0.2997 Validation Accuracy: 0.664000\n",
      "Epoch 37, CIFAR-10 Batch 3:  Loss:     0.1739 Validation Accuracy: 0.642000\n",
      "Epoch 37, CIFAR-10 Batch 4:  Loss:     0.2363 Validation Accuracy: 0.667800\n",
      "Epoch 37, CIFAR-10 Batch 5:  Loss:     0.2207 Validation Accuracy: 0.668200\n",
      "Epoch 38, CIFAR-10 Batch 1:  Loss:     0.3351 Validation Accuracy: 0.663400\n",
      "Epoch 38, CIFAR-10 Batch 2:  Loss:     0.2998 Validation Accuracy: 0.656000\n",
      "Epoch 38, CIFAR-10 Batch 3:  Loss:     0.1816 Validation Accuracy: 0.647200\n",
      "Epoch 38, CIFAR-10 Batch 4:  Loss:     0.2403 Validation Accuracy: 0.659600\n",
      "Epoch 38, CIFAR-10 Batch 5:  Loss:     0.2256 Validation Accuracy: 0.664200\n",
      "Epoch 39, CIFAR-10 Batch 1:  Loss:     0.3402 Validation Accuracy: 0.651200\n",
      "Epoch 39, CIFAR-10 Batch 2:  Loss:     0.2740 Validation Accuracy: 0.664000\n",
      "Epoch 39, CIFAR-10 Batch 3:  Loss:     0.1531 Validation Accuracy: 0.640800\n",
      "Epoch 39, CIFAR-10 Batch 4:  Loss:     0.2039 Validation Accuracy: 0.661200\n",
      "Epoch 39, CIFAR-10 Batch 5:  Loss:     0.2009 Validation Accuracy: 0.662200\n",
      "Epoch 40, CIFAR-10 Batch 1:  Loss:     0.3021 Validation Accuracy: 0.664000\n",
      "Epoch 40, CIFAR-10 Batch 2:  Loss:     0.2855 Validation Accuracy: 0.665000\n",
      "Epoch 40, CIFAR-10 Batch 3:  Loss:     0.1820 Validation Accuracy: 0.641400\n",
      "Epoch 40, CIFAR-10 Batch 4:  Loss:     0.1934 Validation Accuracy: 0.663200\n",
      "Epoch 40, CIFAR-10 Batch 5:  Loss:     0.2146 Validation Accuracy: 0.658000\n",
      "Epoch 41, CIFAR-10 Batch 1:  Loss:     0.2840 Validation Accuracy: 0.660600\n",
      "Epoch 41, CIFAR-10 Batch 2:  Loss:     0.2636 Validation Accuracy: 0.667800\n",
      "Epoch 41, CIFAR-10 Batch 3:  Loss:     0.1500 Validation Accuracy: 0.643800\n",
      "Epoch 41, CIFAR-10 Batch 4:  Loss:     0.1790 Validation Accuracy: 0.671800\n",
      "Epoch 41, CIFAR-10 Batch 5:  Loss:     0.1992 Validation Accuracy: 0.667800\n",
      "Epoch 42, CIFAR-10 Batch 1:  Loss:     0.2820 Validation Accuracy: 0.641000\n",
      "Epoch 42, CIFAR-10 Batch 2:  Loss:     0.2715 Validation Accuracy: 0.671200\n",
      "Epoch 42, CIFAR-10 Batch 3:  Loss:     0.1357 Validation Accuracy: 0.662400\n",
      "Epoch 42, CIFAR-10 Batch 4:  Loss:     0.1777 Validation Accuracy: 0.666400\n",
      "Epoch 42, CIFAR-10 Batch 5:  Loss:     0.1823 Validation Accuracy: 0.667000\n",
      "Epoch 43, CIFAR-10 Batch 1:  Loss:     0.2710 Validation Accuracy: 0.652200\n",
      "Epoch 43, CIFAR-10 Batch 2:  Loss:     0.2597 Validation Accuracy: 0.667200\n",
      "Epoch 43, CIFAR-10 Batch 3:  Loss:     0.1728 Validation Accuracy: 0.629600\n",
      "Epoch 43, CIFAR-10 Batch 4:  Loss:     0.1913 Validation Accuracy: 0.664200\n",
      "Epoch 43, CIFAR-10 Batch 5:  Loss:     0.1593 Validation Accuracy: 0.673600\n",
      "Epoch 44, CIFAR-10 Batch 1:  Loss:     0.2774 Validation Accuracy: 0.648200\n"
     ]
    },
    {
     "name": "stdout",
     "output_type": "stream",
     "text": [
      "Epoch 44, CIFAR-10 Batch 2:  Loss:     0.2707 Validation Accuracy: 0.660200\n",
      "Epoch 44, CIFAR-10 Batch 3:  Loss:     0.1543 Validation Accuracy: 0.642200\n",
      "Epoch 44, CIFAR-10 Batch 4:  Loss:     0.1734 Validation Accuracy: 0.680600\n",
      "Epoch 44, CIFAR-10 Batch 5:  Loss:     0.1919 Validation Accuracy: 0.670200\n",
      "Epoch 45, CIFAR-10 Batch 1:  Loss:     0.2471 Validation Accuracy: 0.653800\n",
      "Epoch 45, CIFAR-10 Batch 2:  Loss:     0.2457 Validation Accuracy: 0.671600\n",
      "Epoch 45, CIFAR-10 Batch 3:  Loss:     0.1304 Validation Accuracy: 0.653600\n",
      "Epoch 45, CIFAR-10 Batch 4:  Loss:     0.1601 Validation Accuracy: 0.675200\n",
      "Epoch 45, CIFAR-10 Batch 5:  Loss:     0.1534 Validation Accuracy: 0.670000\n",
      "Epoch 46, CIFAR-10 Batch 1:  Loss:     0.2468 Validation Accuracy: 0.666800\n",
      "Epoch 46, CIFAR-10 Batch 2:  Loss:     0.2228 Validation Accuracy: 0.671200\n",
      "Epoch 46, CIFAR-10 Batch 3:  Loss:     0.1341 Validation Accuracy: 0.634200\n",
      "Epoch 46, CIFAR-10 Batch 4:  Loss:     0.1685 Validation Accuracy: 0.667400\n",
      "Epoch 46, CIFAR-10 Batch 5:  Loss:     0.1573 Validation Accuracy: 0.673800\n",
      "Epoch 47, CIFAR-10 Batch 1:  Loss:     0.2481 Validation Accuracy: 0.664800\n",
      "Epoch 47, CIFAR-10 Batch 2:  Loss:     0.2357 Validation Accuracy: 0.669800\n",
      "Epoch 47, CIFAR-10 Batch 3:  Loss:     0.1362 Validation Accuracy: 0.642200\n",
      "Epoch 47, CIFAR-10 Batch 4:  Loss:     0.1609 Validation Accuracy: 0.669200\n",
      "Epoch 47, CIFAR-10 Batch 5:  Loss:     0.1374 Validation Accuracy: 0.670200\n",
      "Epoch 48, CIFAR-10 Batch 1:  Loss:     0.2256 Validation Accuracy: 0.662200\n",
      "Epoch 48, CIFAR-10 Batch 2:  Loss:     0.2510 Validation Accuracy: 0.665000\n",
      "Epoch 48, CIFAR-10 Batch 3:  Loss:     0.1383 Validation Accuracy: 0.639000\n",
      "Epoch 48, CIFAR-10 Batch 4:  Loss:     0.1555 Validation Accuracy: 0.676200\n",
      "Epoch 48, CIFAR-10 Batch 5:  Loss:     0.1420 Validation Accuracy: 0.661800\n"
     ]
    }
   ],
   "source": [
    "\"\"\"\n",
    "DON'T MODIFY ANYTHING IN THIS CELL\n",
    "\"\"\"\n",
    "save_model_path = './image_classification'\n",
    "\n",
    "print('Training...')\n",
    "with tf.Session() as sess:\n",
    "    # Initializing the variables\n",
    "    sess.run(tf.global_variables_initializer())\n",
    "    \n",
    "    # Training cycle\n",
    "    for epoch in range(epochs):\n",
    "        # Loop over all batches\n",
    "        n_batches = 5\n",
    "        for batch_i in range(1, n_batches + 1):\n",
    "            for batch_features, batch_labels in helper.load_preprocess_training_batch(batch_i, batch_size):\n",
    "                train_neural_network(sess, optimizer, keep_probability, batch_features, batch_labels)\n",
    "            print('Epoch {:>2}, CIFAR-10 Batch {}:  '.format(epoch + 1, batch_i), end='')\n",
    "            print_stats(sess, batch_features, batch_labels, cost, accuracy)\n",
    "            \n",
    "    # Save Model\n",
    "    saver = tf.train.Saver()\n",
    "    save_path = saver.save(sess, save_model_path)"
   ]
  },
  {
   "cell_type": "markdown",
   "metadata": {},
   "source": [
    "# Checkpoint\n",
    "The model has been saved to disk.\n",
    "## Test Model\n",
    "Test your model against the test dataset.  This will be your final accuracy. You should have an accuracy greater than 50%. If you don't, keep tweaking the model architecture and parameters."
   ]
  },
  {
   "cell_type": "code",
   "execution_count": 56,
   "metadata": {},
   "outputs": [
    {
     "name": "stdout",
     "output_type": "stream",
     "text": [
      "INFO:tensorflow:Restoring parameters from ./image_classification\n",
      "Testing Accuracy: 0.656640625\n",
      "\n"
     ]
    },
    {
     "data": {
      "image/png": "[encoded data removed]",
      "text/plain": [
       "<matplotlib.figure.Figure at 0x11b921f28>"
      ]
     },
     "metadata": {
      "image/png": {
       "height": 319,
       "width": 355
      }
     },
     "output_type": "display_data"
    }
   ],
   "source": [
    "\"\"\"\n",
    "DON'T MODIFY ANYTHING IN THIS CELL\n",
    "\"\"\"\n",
    "%matplotlib inline\n",
    "%config InlineBackend.figure_format = 'retina'\n",
    "\n",
    "import tensorflow as tf\n",
    "import pickle\n",
    "import helper\n",
    "import random\n",
    "\n",
    "# Set batch size if not already set\n",
    "try:\n",
    "    if batch_size:\n",
    "        pass\n",
    "except NameError:\n",
    "    batch_size = 64\n",
    "\n",
    "save_model_path = './image_classification'\n",
    "n_samples = 4\n",
    "top_n_predictions = 3\n",
    "\n",
    "def test_model():\n",
    "    \"\"\"\n",
    "    Test the saved model against the test dataset\n",
    "    \"\"\"\n",
    "\n",
    "    test_features, test_labels = pickle.load(open('preprocess_test.p', mode='rb'))\n",
    "    loaded_graph = tf.Graph()\n",
    "\n",
    "    with tf.Session(graph=loaded_graph) as sess:\n",
    "        # Load model\n",
    "        loader = tf.train.import_meta_graph(save_model_path + '.meta')\n",
    "        loader.restore(sess, save_model_path)\n",
    "\n",
    "        # Get Tensors from loaded model\n",
    "        loaded_x = loaded_graph.get_tensor_by_name('x:0')\n",
    "        loaded_y = loaded_graph.get_tensor_by_name('y:0')\n",
    "        loaded_keep_prob = loaded_graph.get_tensor_by_name('keep_prob:0')\n",
    "        loaded_logits = loaded_graph.get_tensor_by_name('logits:0')\n",
    "        loaded_acc = loaded_graph.get_tensor_by_name('accuracy:0')\n",
    "        \n",
    "        # Get accuracy in batches for memory limitations\n",
    "        test_batch_acc_total = 0\n",
    "        test_batch_count = 0\n",
    "        \n",
    "        for test_feature_batch, test_label_batch in helper.batch_features_labels(test_features, test_labels, batch_size):\n",
    "            test_batch_acc_total += sess.run(\n",
    "                loaded_acc,\n",
    "                feed_dict={loaded_x: test_feature_batch, loaded_y: test_label_batch, loaded_keep_prob: 1.0})\n",
    "            test_batch_count += 1\n",
    "\n",
    "        print('Testing Accuracy: {}\\n'.format(test_batch_acc_total/test_batch_count))\n",
    "\n",
    "        # Print Random Samples\n",
    "        random_test_features, random_test_labels = tuple(zip(*random.sample(list(zip(test_features, test_labels)), n_samples)))\n",
    "        random_test_predictions = sess.run(\n",
    "            tf.nn.top_k(tf.nn.softmax(loaded_logits), top_n_predictions),\n",
    "            feed_dict={loaded_x: random_test_features, loaded_y: random_test_labels, loaded_keep_prob: 1.0})\n",
    "        helper.display_image_predictions(random_test_features, random_test_labels, random_test_predictions)\n",
    "\n",
    "\n",
    "test_model()"
   ]
  },
  {
   "cell_type": "markdown",
   "metadata": {},
   "source": [
    "## Why 50-80% Accuracy?\n",
    "You might be wondering why you can't get an accuracy any higher. First things first, 50% isn't bad for a simple CNN.  Pure guessing would get you 10% accuracy. However, you might notice people are getting scores [well above 80%](http://rodrigob.github.io/are_we_there_yet/build/classification_datasets_results.html#43494641522d3130).  That's because we haven't taught you all there is to know about neural networks. We still need to cover a few more techniques.\n",
    "## Submitting This Project\n",
    "When submitting this project, make sure to run all the cells before saving the notebook.  Save the notebook file as \"dlnd_image_classification.ipynb\" and save it as a HTML file under \"File\" -> \"Download as\".  Include the \"helper.py\" and \"problem_unittests.py\" files in your submission."
   ]
  }
 ],
 "metadata": {
  "kernelspec": {
   "display_name": "Python 3",
   "language": "python",
   "name": "python3"
  },
  "language_info": {
   "codemirror_mode": {
    "name": "ipython",
    "version": 3
   },
   "file_extension": ".py",
   "mimetype": "text/x-python",
   "name": "python",
   "nbconvert_exporter": "python",
   "pygments_lexer": "ipython3",
   "version": "3.5.3"
  }
 },
 "nbformat": 4,
 "nbformat_minor": 1
}
